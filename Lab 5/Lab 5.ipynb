{
 "cells": [
  {
   "cell_type": "code",
   "execution_count": 9,
   "metadata": {},
   "outputs": [
    {
     "name": "stdout",
     "output_type": "stream",
     "text": [
      "Model: \"functional_7\"\n",
      "_________________________________________________________________\n",
      "Layer (type)                 Output Shape              Param #   \n",
      "=================================================================\n",
      "input_4 (InputLayer)         [(None, 31)]              0         \n",
      "_________________________________________________________________\n",
      "dense_9 (Dense)              (None, 10)                320       \n",
      "_________________________________________________________________\n",
      "dense_10 (Dense)             (None, 5)                 55        \n",
      "_________________________________________________________________\n",
      "dense_11 (Dense)             (None, 1)                 6         \n",
      "=================================================================\n",
      "Total params: 381\n",
      "Trainable params: 381\n",
      "Non-trainable params: 0\n",
      "_________________________________________________________________\n"
     ]
    }
   ],
   "source": [
    "import pandas as pd\n",
    "import numpy as np\n",
    "from copy import deepcopy\n",
    "from sklearn import metrics as mt \n",
    "from tensorflow import keras\n",
    "from tensorflow.keras.layers import Dense, Activation, Input\n",
    "from tensorflow.keras.models import Model\n",
    "\n",
    "df = pd.read_csv('Video_games_esrb_rating.csv')\n",
    "\n",
    "# map the esrb string values to integers for our target\n",
    "rating = []\n",
    "\n",
    "for i in df['esrb_rating']:\n",
    "    if(i == 'E'):\n",
    "        rating.append(0)\n",
    "    elif(i == 'ET'):\n",
    "        rating.append(1)\n",
    "    elif(i == 'T'):\n",
    "        rating.append(2)\n",
    "    else:\n",
    "        rating.append(3)\n",
    "        \n",
    "del df['title'] #get rid of unnecessary data\n",
    "del df['console']\n",
    "del df['esrb_rating'] #get rid of original column since its been mapped now\n",
    "\n",
    "from sklearn.model_selection import ShuffleSplit\n",
    "\n",
    "y = np.array(rating).T\n",
    "\n",
    "#remaining columns in dataset are used for X\n",
    "X = df.to_numpy()\n",
    "\n",
    "#set up shuffle split using example\n",
    "num_cv_iterations = 10\n",
    "num_instances = len(y)\n",
    "cv_object = ShuffleSplit(n_splits = num_cv_iterations, test_size = 0.2)\n",
    "for train_index, test_index in cv_object.split(X,y):\n",
    "    X_train, X_test = X[train_index], X[test_index]\n",
    "    y_train, y_test = y[train_index], y[test_index]\n",
    "\n",
    "num_features = X_train.shape[1]\n",
    "input_tensor = Input(shape=(num_features,))\n",
    "x = Dense(units=10, activation='relu')(input_tensor)\n",
    "x = Dense(units=5, activation='tanh')(x)\n",
    "predictions = Dense(1, activation='sigmoid')(x)\n",
    "model = Model(inputs=input_tensor, outputs=predictions)\n",
    "model.compile(optimizer='sgd',\n",
    "              loss='mean_squared_error',\n",
    "              metrics=['accuracy'])\n",
    "\n",
    "model.summary()\n"
   ]
  },
  {
   "cell_type": "code",
   "execution_count": 10,
   "metadata": {},
   "outputs": [
    {
     "name": "stdout",
     "output_type": "stream",
     "text": [
      "Epoch 1/10\n",
      "31/31 [==============================] - 0s 812us/step - loss: 2.0148 - accuracy: 0.2071\n",
      "Epoch 2/10\n",
      "31/31 [==============================] - 0s 837us/step - loss: 1.8417 - accuracy: 0.2111\n",
      "Epoch 3/10\n",
      "31/31 [==============================] - 0s 670us/step - loss: 1.7218 - accuracy: 0.2111\n",
      "Epoch 4/10\n",
      "31/31 [==============================] - 0s 645us/step - loss: 1.6427 - accuracy: 0.2111\n",
      "Epoch 5/10\n",
      "31/31 [==============================] - 0s 582us/step - loss: 1.5893 - accuracy: 0.2111\n",
      "Epoch 6/10\n",
      "31/31 [==============================] - 0s 548us/step - loss: 1.5525 - accuracy: 0.2111\n",
      "Epoch 7/10\n",
      "31/31 [==============================] - 0s 549us/step - loss: 1.5255 - accuracy: 0.2111\n",
      "Epoch 8/10\n",
      "31/31 [==============================] - 0s 645us/step - loss: 1.5059 - accuracy: 0.2111\n",
      "Epoch 9/10\n",
      "31/31 [==============================] - 0s 581us/step - loss: 1.4912 - accuracy: 0.2111\n",
      "Epoch 10/10\n",
      "31/31 [==============================] - 0s 586us/step - loss: 1.4794 - accuracy: 0.2111\n",
      "[[  0  72   0   0]\n",
      " [  0  83   0   0]\n",
      " [  0 145   0   0]\n",
      " [  0  79   0   0]]\n",
      "              precision    recall  f1-score   support\n",
      "\n",
      "           0       0.00      0.00      0.00        72\n",
      "           1       0.22      1.00      0.36        83\n",
      "           2       0.00      0.00      0.00       145\n",
      "           3       0.00      0.00      0.00        79\n",
      "\n",
      "    accuracy                           0.22       379\n",
      "   macro avg       0.05      0.25      0.09       379\n",
      "weighted avg       0.05      0.22      0.08       379\n",
      "\n",
      "Wall time: 860 ms\n"
     ]
    },
    {
     "name": "stderr",
     "output_type": "stream",
     "text": [
      "C:\\Users\\infin\\.conda\\envs\\mlenv2020\\lib\\site-packages\\sklearn\\metrics\\_classification.py:1221: UndefinedMetricWarning: Precision and F-score are ill-defined and being set to 0.0 in labels with no predicted samples. Use `zero_division` parameter to control this behavior.\n",
      "  _warn_prf(average, modifier, msg_start, len(result))\n"
     ]
    }
   ],
   "source": [
    "%%time\n",
    "\n",
    "model.fit(X_train, y_train, epochs=10, batch_size=50, verbose=1)\n",
    "from sklearn import metrics as mt\n",
    "yhat_proba = model.predict(X_test)\n",
    "yhat = np.round(yhat_proba)\n",
    "print(mt.confusion_matrix(y_test,yhat))\n",
    "print(mt.classification_report(y_test,yhat))"
   ]
  },
  {
   "cell_type": "code",
   "execution_count": null,
   "metadata": {},
   "outputs": [],
   "source": []
  }
 ],
 "metadata": {
  "kernelspec": {
   "display_name": "Python 3",
   "language": "python",
   "name": "python3"
  },
  "language_info": {
   "codemirror_mode": {
    "name": "ipython",
    "version": 3
   },
   "file_extension": ".py",
   "mimetype": "text/x-python",
   "name": "python",
   "nbconvert_exporter": "python",
   "pygments_lexer": "ipython3",
   "version": "3.7.9"
  }
 },
 "nbformat": 4,
 "nbformat_minor": 4
}
