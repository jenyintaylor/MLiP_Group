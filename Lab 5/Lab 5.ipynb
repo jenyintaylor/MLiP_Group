{
 "cells": [
  {
   "cell_type": "code",
   "execution_count": null,
   "metadata": {},
   "outputs": [],
   "source": [
    "import pandas as pd\n",
    "import numpy as np\n",
    "from copy import deepcopy\n",
    "from sklearn import metrics as mt \n",
    "from tensorflow import keras\n",
    "from tensorflow.keras.layers import Dense, Activation, Input\n",
    "from tensorflow.keras.models import Model\n",
    "\n",
    "df = pd.read_csv('Video_games_esrb_rating.csv')\n",
    "\n",
    "# map the esrb string values to integers for our target\n",
    "rating = []\n",
    "\n",
    "for i in df['esrb_rating']:\n",
    "    if(i == 'E'):\n",
    "        rating.append(0)\n",
    "    elif(i == 'ET'):\n",
    "        rating.append(1)\n",
    "    elif(i == 'T'):\n",
    "        rating.append(2)\n",
    "    else:\n",
    "        rating.append(3)\n",
    "        \n",
    "del df['title'] #get rid of unnecessary data\n",
    "del df['console']\n",
    "del df['esrb_rating'] #get rid of original column since its been mapped now\n",
    "\n",
    "from sklearn.model_selection import ShuffleSplit\n",
    "\n",
    "y = np.array(rating).T\n",
    "\n",
    "#remaining columns in dataset are used for X\n",
    "X = df.to_numpy()\n",
    "\n",
    "#set up shuffle split using example\n",
    "num_cv_iterations = 10\n",
    "num_instances = len(y)\n",
    "cv_object = ShuffleSplit(n_splits = num_cv_iterations, test_size = 0.2)"
   ]
  }
 ],
 "metadata": {
  "kernelspec": {
   "display_name": "Python 3",
   "language": "python",
   "name": "python3"
  },
  "language_info": {
   "codemirror_mode": {
    "name": "ipython",
    "version": 3
   },
   "file_extension": ".py",
   "mimetype": "text/x-python",
   "name": "python",
   "nbconvert_exporter": "python",
   "pygments_lexer": "ipython3",
   "version": "3.8.5"
  }
 },
 "nbformat": 4,
 "nbformat_minor": 4
}
