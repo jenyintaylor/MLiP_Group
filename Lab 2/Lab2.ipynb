{
 "cells": [
  {
   "cell_type": "markdown",
   "metadata": {},
   "source": [
    "# Lab 2\n",
    "Authors: Riley Galante, Jeffrey Taylor, Eric Bernard, Austin Hayden"
   ]
  },
  {
   "cell_type": "markdown",
   "metadata": {},
   "source": [
    "# Business Understanding\n",
    "\n",
    "..."
   ]
  },
  {
   "cell_type": "markdown",
   "metadata": {},
   "source": [
    "# Data Preparation"
   ]
  },
  {
   "cell_type": "code",
   "execution_count": 5,
   "metadata": {},
   "outputs": [],
   "source": [
    "#a start and i dont want to deal with this all tonight\n",
    "#load in dataset from zip file\n",
    "import pandas as pd\n",
    "import numpy as np\n",
    "\n",
    "import zipfile\n",
    "from PIL import Image\n",
    "\n",
    "imgzip = zipfile.ZipFile(\"data.zip\")\n",
    "inflist = imgzip.infolist()\n",
    "\n",
    "for f in inflist:\n",
    "    ifile = imgzip.open(f)\n",
    "    img = Image.open(ifile)\n",
    "    #numpy arrays...\n",
    "    #print(img)\n",
    "    # display(img)"
   ]
  },
  {
   "cell_type": "code",
   "execution_count": null,
   "metadata": {},
   "outputs": [],
   "source": []
  }
 ],
 "metadata": {
  "kernelspec": {
   "display_name": "Python 3",
   "language": "python",
   "name": "python3"
  },
  "language_info": {
   "codemirror_mode": {
    "name": "ipython",
    "version": 3
   },
   "file_extension": ".py",
   "mimetype": "text/x-python",
   "name": "python",
   "nbconvert_exporter": "python",
   "pygments_lexer": "ipython3",
   "version": "3.8.5"
  }
 },
 "nbformat": 4,
 "nbformat_minor": 4
}
